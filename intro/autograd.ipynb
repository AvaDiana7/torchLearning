{
 "cells": [
  {
   "cell_type": "code",
   "id": "initial_id",
   "metadata": {
    "collapsed": true,
    "ExecuteTime": {
     "end_time": "2024-09-12T06:24:32.159909Z",
     "start_time": "2024-09-12T06:24:31.403888Z"
    }
   },
   "source": [
    "import torch\n",
    "\n",
    "x = torch.ones(5)  # input tensor\n",
    "y = torch.zeros(3)  # expected output\n",
    "w = torch.randn(5, 3, requires_grad=True)\n",
    "b = torch.randn(3, requires_grad=True)\n",
    "z = torch.matmul(x, w)+b\n",
    "loss = torch.nn.functional.binary_cross_entropy_with_logits(z, y)"
   ],
   "outputs": [],
   "execution_count": 1
  },
  {
   "metadata": {
    "ExecuteTime": {
     "end_time": "2024-09-12T06:26:41.048697Z",
     "start_time": "2024-09-12T06:26:41.041575Z"
    }
   },
   "cell_type": "code",
   "source": [
    "print(f\"Gradient function for z = {z.grad_fn}\")\n",
    "print(f\"Gradient function for loss = {loss.grad_fn}\")"
   ],
   "id": "21042d3e5da17ef4",
   "outputs": [
    {
     "name": "stdout",
     "output_type": "stream",
     "text": [
      "Gradient function for z = <AddBackward0 object at 0x104e2c460>\n",
      "Gradient function for loss = <BinaryCrossEntropyWithLogitsBackward0 object at 0x10b03af50>\n"
     ]
    }
   ],
   "execution_count": 2
  },
  {
   "metadata": {},
   "cell_type": "markdown",
   "source": "# 计算梯度",
   "id": "57cb307f90ba7d55"
  },
  {
   "metadata": {
    "ExecuteTime": {
     "end_time": "2024-09-12T06:28:10.452801Z",
     "start_time": "2024-09-12T06:28:10.423843Z"
    }
   },
   "cell_type": "code",
   "source": [
    "loss.backward()\n",
    "print(w.grad)\n",
    "print(b.grad)"
   ],
   "id": "2feaa74d125181b1",
   "outputs": [
    {
     "name": "stdout",
     "output_type": "stream",
     "text": [
      "tensor([[0.2180, 0.1304, 0.0279],\n",
      "        [0.2180, 0.1304, 0.0279],\n",
      "        [0.2180, 0.1304, 0.0279],\n",
      "        [0.2180, 0.1304, 0.0279],\n",
      "        [0.2180, 0.1304, 0.0279]])\n",
      "tensor([0.2180, 0.1304, 0.0279])\n"
     ]
    }
   ],
   "execution_count": 3
  },
  {
   "metadata": {},
   "cell_type": "code",
   "outputs": [],
   "execution_count": null,
   "source": "",
   "id": "b16ef396525814d8"
  }
 ],
 "metadata": {
  "kernelspec": {
   "display_name": "Python 3",
   "language": "python",
   "name": "python3"
  },
  "language_info": {
   "codemirror_mode": {
    "name": "ipython",
    "version": 2
   },
   "file_extension": ".py",
   "mimetype": "text/x-python",
   "name": "python",
   "nbconvert_exporter": "python",
   "pygments_lexer": "ipython2",
   "version": "2.7.6"
  }
 },
 "nbformat": 4,
 "nbformat_minor": 5
}
